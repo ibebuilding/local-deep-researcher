{
 "cells": [
  {
   "cell_type": "code",
   "execution_count": null,
   "id": "99b41984",
   "metadata": {},
   "outputs": [
    {
     "name": "stdout",
     "output_type": "stream",
     "text": [
      "{'query': 'Who is Micky Mouse?', 'follow_up_questions': None, 'answer': None, 'images': [], 'results': [{'title': 'Mickey Mouse - Wikipedia', 'url': 'https://en.wikipedia.org/wiki/Mickey_Mouse', 'content': 'Mickey Mouse is an American cartoon character co-created in 1928 by Walt Disney and Ub Iwerks.The longtime icon and mascot of the Walt Disney Company, Mickey is an anthropomorphic mouse who typically wears red shorts, large shoes, and white gloves. He is often depicted with a cast of characters including his girlfriend Minnie Mouse, his pet dog Pluto, his best friends Donald Duck and Goofy', 'score': 0.94289196, 'raw_content': None}, {'title': 'Mickey Mouse - Disney Wiki', 'url': 'https://disney.fandom.com/wiki/Mickey_Mouse', 'content': 'Mickey Mouse is an animated cartoon character created by Walt Disney and Ub Iwerks.A cheerful and plucky anthropomorphic mouse, Mickey made his first public appearance in Steamboat Willie, on November 18, 1928.Estimated as standing 2\\' 3\" (68.58 centimeters) and weighing 23 pounds (10.43 kilograms), Mickey is easily identified by his round ears, red shorts with white buttons, white gloves, and', 'score': 0.9123193, 'raw_content': None}, {'title': '11 Facts About Mickey Mouse (Disney)', 'url': 'https://facts.net/lifestyle/entertainment/11-facts-about-mickey-mouse-disney/', 'content': 'The Origin of Mickey Mouse. Mickey Mouse, one of the most iconic cartoon characters of all time, was created by Walt Disney and Ub Iwerks. He made his debut on November 18, 1928, in the short film \"Steamboat Willie.\" This marked the beginning of the Disney empire and the start of Mickey\\'s journey to superstardom.', 'score': 0.7368747, 'raw_content': None}, {'title': 'Mickey Mouse | Cartoon, Creation, Disney, & Facts | Britannica', 'url': 'https://www.britannica.com/topic/Mickey-Mouse', 'content': \"During the early years, Mickey was drawn by noted animator Ub Iwerks, and Disney himself provided Mickey's voice until 1947.Mickey was often joined by his girlfriend, Minnie Mouse, as well as an animated gang of friends that included Donald Duck, Goofy, and Pluto.Mickey was a cheerful and mischievous anthropomorphic rodent who starred in more than 100 cartoon shorts and became a worldwide\", 'score': 0.6854659, 'raw_content': None}, {'title': \"9 Facts About Mickey Mouse That You Probably Didn't Know\", 'url': 'https://www.disney.sg/article-9-facts-about-mickey-mouse', 'content': \"The first person to give Mickey his voice was none other than Walt Disney himself! Fact #8: While Steamboat Willie was Mickey's very first appearance, he made his feature film debut in Fantasia in 1940. Fact #9: Mickey has made two special appearances at the Academy Awards over the years: once in 1988 and another in 2003.\", 'score': 0.31852806, 'raw_content': None}], 'response_time': 1.58} \n",
      "\n",
      "Mickey Mouse - Wikipedia\n",
      "Mickey Mouse is an American cartoon character co-created in 1928 by Walt Disney and Ub Iwerks.The longtime icon and mascot of the Walt Disney Company, Mickey is an anthropomorphic mouse who typically wears red shorts, large shoes, and white gloves. He is often depicted with a cast of characters including his girlfriend Minnie Mouse, his pet dog Pluto, his best friends Donald Duck and Goofy\n",
      "Mickey Mouse - Disney Wiki\n",
      "Mickey Mouse is an animated cartoon character created by Walt Disney and Ub Iwerks.A cheerful and plucky anthropomorphic mouse, Mickey made his first public appearance in Steamboat Willie, on November 18, 1928.Estimated as standing 2' 3\" (68.58 centimeters) and weighing 23 pounds (10.43 kilograms), Mickey is easily identified by his round ears, red shorts with white buttons, white gloves, and\n",
      "11 Facts About Mickey Mouse (Disney)\n",
      "The Origin of Mickey Mouse. Mickey Mouse, one of the most iconic cartoon characters of all time, was created by Walt Disney and Ub Iwerks. He made his debut on November 18, 1928, in the short film \"Steamboat Willie.\" This marked the beginning of the Disney empire and the start of Mickey's journey to superstardom.\n",
      "Mickey Mouse | Cartoon, Creation, Disney, & Facts | Britannica\n",
      "During the early years, Mickey was drawn by noted animator Ub Iwerks, and Disney himself provided Mickey's voice until 1947.Mickey was often joined by his girlfriend, Minnie Mouse, as well as an animated gang of friends that included Donald Duck, Goofy, and Pluto.Mickey was a cheerful and mischievous anthropomorphic rodent who starred in more than 100 cartoon shorts and became a worldwide\n",
      "9 Facts About Mickey Mouse That You Probably Didn't Know\n",
      "The first person to give Mickey his voice was none other than Walt Disney himself! Fact #8: While Steamboat Willie was Mickey's very first appearance, he made his feature film debut in Fantasia in 1940. Fact #9: Mickey has made two special appearances at the Academy Awards over the years: once in 1988 and another in 2003.\n"
     ]
    }
   ],
   "source": [
    "# Initialize the Tavily client\n",
    "from tavily import TavilyClient     \n",
    "from dotenv import load_dotenv\n",
    "import os     \n",
    "\n",
    "load_dotenv() \n",
    "tavilyAPI = os.getenv(\"TAVILY_API_KEY\")\n",
    "if not tavilyAPI:\n",
    "    raise ValueError(\"TAVILY_API_KEY environment variable not set\")\n",
    "TAVILY_API_KEY = tavilyAPI\n",
    "\n",
    "\n",
    "tavily = TavilyClient(TAVILY_API_KEY)\n",
    "response = tavily.search(\"Who is Micky Mouse?\")\n",
    "print(response, \"\\n\")\n",
    "\n",
    "for result in response['results']:\n",
    "    print(result['title'])\n",
    "    print(result['content'])"
   ]
  }
 ],
 "metadata": {
  "kernelspec": {
   "display_name": ".venv",
   "language": "python",
   "name": "python3"
  },
  "language_info": {
   "codemirror_mode": {
    "name": "ipython",
    "version": 3
   },
   "file_extension": ".py",
   "mimetype": "text/x-python",
   "name": "python",
   "nbconvert_exporter": "python",
   "pygments_lexer": "ipython3",
   "version": "3.13.3"
  }
 },
 "nbformat": 4,
 "nbformat_minor": 5
}
